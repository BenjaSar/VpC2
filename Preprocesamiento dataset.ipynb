{
 "cells": [
  {
   "cell_type": "code",
   "execution_count": 1,
   "id": "ca55a66f",
   "metadata": {},
   "outputs": [
    {
     "data": {
      "text/plain": [
       "DatasetDict({\n",
       "    train: Dataset({\n",
       "        features: ['image_id', 'image', 'width', 'height', 'objects'],\n",
       "        num_rows: 6176\n",
       "    })\n",
       "    validation: Dataset({\n",
       "        features: ['image_id', 'image', 'width', 'height', 'objects'],\n",
       "        num_rows: 1765\n",
       "    })\n",
       "    test: Dataset({\n",
       "        features: ['image_id', 'image', 'width', 'height', 'objects'],\n",
       "        num_rows: 882\n",
       "    })\n",
       "})"
      ]
     },
     "execution_count": 1,
     "metadata": {},
     "output_type": "execute_result"
    }
   ],
   "source": [
    "from datasets import load_dataset\n",
    "\n",
    "data_set = load_dataset(\"keremberke/license-plate-object-detection\", name=\"full\")\n",
    "data_set"
   ]
  },
  {
   "cell_type": "code",
   "execution_count": 2,
   "id": "601a7e98",
   "metadata": {},
   "outputs": [
    {
     "data": {
      "application/vnd.jupyter.widget-view+json": {
       "model_id": "9e2e9d6ee08e45f4b28438738758dd9b",
       "version_major": 2,
       "version_minor": 0
      },
      "text/plain": [
       "Procesando datasets:   0%|          | 0/3 [00:00<?, ?it/s]"
      ]
     },
     "metadata": {},
     "output_type": "display_data"
    },
    {
     "data": {
      "application/vnd.jupyter.widget-view+json": {
       "model_id": "b986ca83d1b14ba4972bb2e91bb45324",
       "version_major": 2,
       "version_minor": 0
      },
      "text/plain": [
       "Procesando imágenes de train:   0%|          | 0/6176 [00:00<?, ?it/s]"
      ]
     },
     "metadata": {},
     "output_type": "display_data"
    },
    {
     "data": {
      "application/vnd.jupyter.widget-view+json": {
       "model_id": "51f18fb1be14491b98ac233c3ec1c119",
       "version_major": 2,
       "version_minor": 0
      },
      "text/plain": [
       "Procesando imágenes de validation:   0%|          | 0/1765 [00:00<?, ?it/s]"
      ]
     },
     "metadata": {},
     "output_type": "display_data"
    },
    {
     "data": {
      "application/vnd.jupyter.widget-view+json": {
       "model_id": "51cfd6b0e64f48828bfdaaadbb1bd75d",
       "version_major": 2,
       "version_minor": 0
      },
      "text/plain": [
       "Procesando imágenes de test:   0%|          | 0/882 [00:00<?, ?it/s]"
      ]
     },
     "metadata": {},
     "output_type": "display_data"
    }
   ],
   "source": [
    "import os\n",
    "from tqdm.notebook import tqdm\n",
    "\n",
    "sub_carpetas = [\"train\", \"validation\", \"test\"]\n",
    "carpetas_principales = [\"images\", \"labels\"]\n",
    "\n",
    "data_dir = 'data'\n",
    "paths = [os.path.join('data', principal, sub_carpeta) \n",
    "         for principal in carpetas_principales \n",
    "         for sub_carpeta in sub_carpetas]\n",
    "\n",
    "for path in paths:\n",
    "    os.makedirs(path, exist_ok=True)\n",
    "\n",
    "for ds_name in tqdm(sub_carpetas, desc='Procesando datasets'):\n",
    "    images = data_set[ds_name][::]['image']\n",
    "    objects = data_set[ds_name][::]['objects']\n",
    "    \n",
    "    for img, obj in tqdm(zip(images, objects), total=len(images), desc=f'Procesando imágenes de {ds_name}'):\n",
    "        if len(obj['id']) == 1:\n",
    "            x, y, w, h = map(int, obj['bbox'][0])\n",
    "            \n",
    "            img_path = os.path.join(data_dir, 'images', ds_name, f\"{obj['id'][0]}.jpg\")\n",
    "            img.save(img_path)\n",
    "            \n",
    "            img_width, img_height = img.size\n",
    "            x_center = (x + w / 2) / img_width\n",
    "            y_center = (y + h / 2) / img_height\n",
    "            w /= img_width\n",
    "            h /= img_height\n",
    "            \n",
    "            label_path = os.path.join(data_dir, 'labels', ds_name, f\"{obj['id'][0]}.txt\")\n",
    "            with open(label_path, 'w') as f:\n",
    "                class_index = 0\n",
    "                f.write(f\"{class_index} {x_center} {y_center} {w} {h}\\n\")\n"
   ]
  }
 ],
 "metadata": {
  "kernelspec": {
   "display_name": "Python 3 (ipykernel)",
   "language": "python",
   "name": "python3"
  },
  "language_info": {
   "codemirror_mode": {
    "name": "ipython",
    "version": 3
   },
   "file_extension": ".py",
   "mimetype": "text/x-python",
   "name": "python",
   "nbconvert_exporter": "python",
   "pygments_lexer": "ipython3",
   "version": "3.9.13"
  }
 },
 "nbformat": 4,
 "nbformat_minor": 5
}
