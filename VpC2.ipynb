{
 "cells": [
  {
   "cell_type": "markdown",
   "metadata": {},
   "source": [
    "### LICENSE PLATE OBJECT DETECTION"
   ]
  },
  {
   "cell_type": "markdown",
   "metadata": {},
   "source": [
    "Based on https://huggingface.co/datasets/keremberke/license-plate-object-detection"
   ]
  },
  {
   "cell_type": "code",
   "execution_count": 4,
   "metadata": {},
   "outputs": [
    {
     "name": "stdout",
     "output_type": "stream",
     "text": [
      "Requirement already satisfied: torchmetrics in /home/benja/anaconda3/envs/pytorch/lib/python3.9/site-packages (1.1.2)\n",
      "Requirement already satisfied: numpy>1.20.0 in /home/benja/anaconda3/envs/pytorch/lib/python3.9/site-packages (from torchmetrics) (1.25.2)\n",
      "Requirement already satisfied: torch>=1.8.1 in /home/benja/anaconda3/envs/pytorch/lib/python3.9/site-packages (from torchmetrics) (2.0.1)\n",
      "Requirement already satisfied: lightning-utilities>=0.8.0 in /home/benja/anaconda3/envs/pytorch/lib/python3.9/site-packages (from torchmetrics) (0.9.0)\n",
      "Requirement already satisfied: packaging>=17.1 in /home/benja/anaconda3/envs/pytorch/lib/python3.9/site-packages (from lightning-utilities>=0.8.0->torchmetrics) (23.0)\n",
      "Requirement already satisfied: typing-extensions in /home/benja/anaconda3/envs/pytorch/lib/python3.9/site-packages (from lightning-utilities>=0.8.0->torchmetrics) (4.7.1)\n",
      "Requirement already satisfied: filelock in /home/benja/anaconda3/envs/pytorch/lib/python3.9/site-packages (from torch>=1.8.1->torchmetrics) (3.9.0)\n",
      "Requirement already satisfied: sympy in /home/benja/anaconda3/envs/pytorch/lib/python3.9/site-packages (from torch>=1.8.1->torchmetrics) (1.11.1)\n",
      "Requirement already satisfied: networkx in /home/benja/anaconda3/envs/pytorch/lib/python3.9/site-packages (from torch>=1.8.1->torchmetrics) (3.1)\n",
      "Requirement already satisfied: jinja2 in /home/benja/anaconda3/envs/pytorch/lib/python3.9/site-packages (from torch>=1.8.1->torchmetrics) (3.1.2)\n",
      "Requirement already satisfied: MarkupSafe>=2.0 in /home/benja/anaconda3/envs/pytorch/lib/python3.9/site-packages (from jinja2->torch>=1.8.1->torchmetrics) (2.1.1)\n",
      "Requirement already satisfied: mpmath>=0.19 in /home/benja/anaconda3/envs/pytorch/lib/python3.9/site-packages (from sympy->torch>=1.8.1->torchmetrics) (1.3.0)\n",
      "Requirement already satisfied: gdown in /home/benja/anaconda3/envs/pytorch/lib/python3.9/site-packages (4.7.1)\n",
      "Requirement already satisfied: filelock in /home/benja/anaconda3/envs/pytorch/lib/python3.9/site-packages (from gdown) (3.9.0)\n",
      "Requirement already satisfied: requests[socks] in /home/benja/anaconda3/envs/pytorch/lib/python3.9/site-packages (from gdown) (2.31.0)\n",
      "Requirement already satisfied: six in /home/benja/anaconda3/envs/pytorch/lib/python3.9/site-packages (from gdown) (1.16.0)\n",
      "Requirement already satisfied: tqdm in /home/benja/anaconda3/envs/pytorch/lib/python3.9/site-packages (from gdown) (4.66.1)\n",
      "Requirement already satisfied: beautifulsoup4 in /home/benja/anaconda3/envs/pytorch/lib/python3.9/site-packages (from gdown) (4.12.2)\n",
      "Requirement already satisfied: soupsieve>1.2 in /home/benja/anaconda3/envs/pytorch/lib/python3.9/site-packages (from beautifulsoup4->gdown) (2.5)\n",
      "Requirement already satisfied: charset-normalizer<4,>=2 in /home/benja/anaconda3/envs/pytorch/lib/python3.9/site-packages (from requests[socks]->gdown) (2.0.4)\n",
      "Requirement already satisfied: idna<4,>=2.5 in /home/benja/anaconda3/envs/pytorch/lib/python3.9/site-packages (from requests[socks]->gdown) (3.4)\n",
      "Requirement already satisfied: urllib3<3,>=1.21.1 in /home/benja/anaconda3/envs/pytorch/lib/python3.9/site-packages (from requests[socks]->gdown) (1.26.16)\n",
      "Requirement already satisfied: certifi>=2017.4.17 in /home/benja/anaconda3/envs/pytorch/lib/python3.9/site-packages (from requests[socks]->gdown) (2023.7.22)\n",
      "Requirement already satisfied: PySocks!=1.5.7,>=1.5.6 in /home/benja/anaconda3/envs/pytorch/lib/python3.9/site-packages (from requests[socks]->gdown) (1.7.1)\n",
      "usage: jupyter [-h] [--version] [--config-dir] [--data-dir] [--runtime-dir]\n",
      "               [--paths] [--json] [--debug]\n",
      "               [subcommand]\n",
      "\n",
      "Jupyter: Interactive Computing\n",
      "\n",
      "positional arguments:\n",
      "  subcommand     the subcommand to launch\n",
      "\n",
      "optional arguments:\n",
      "  -h, --help     show this help message and exit\n",
      "  --version      show the versions of core jupyter packages and exit\n",
      "  --config-dir   show Jupyter config dir\n",
      "  --data-dir     show Jupyter data dir\n",
      "  --runtime-dir  show Jupyter runtime dir\n",
      "  --paths        show all Jupyter paths. Add --json for machine-readable\n",
      "                 format.\n",
      "  --json         output paths as machine-readable json\n",
      "  --debug        output debug information about paths\n",
      "\n",
      "Available subcommands: kernel kernelspec migrate migrate.exe run script.py\n",
      "troubleshoot troubleshoot.exe trust-script.py trust.exe\n",
      "\n",
      "Jupyter command `jupyter-nbextension` not found.\n"
     ]
    }
   ],
   "source": [
    "# Install dependencies and libreries\n",
    "!pip install torchmetrics\n",
    "!pip install --upgrade --no-cache-dir gdown\n",
    "!jupyter nbextension enable --py widgetsnbextension"
   ]
  },
  {
   "cell_type": "code",
   "execution_count": 78,
   "metadata": {},
   "outputs": [],
   "source": [
    "# Import Libraries\n",
    "import numpy as np\n",
    "import matplotlib.pyplot as plt\n",
    "import matplotlib.image as mpimg\n",
    "import random\n",
    "import os\n",
    "\n",
    "import torch\n",
    "import torchvision\n",
    "import torchsummary\n",
    "import torchmetrics\n",
    "from torch.utils.tensorboard import SummaryWriter\n",
    "from transformers import AutoFeatureExtractor\n",
    "from datasets import load_dataset, Image\n",
    "from torchvision import transforms\n",
    "from torchvision.transforms import Compose, Normalize, RandomResizedCrop, ColorJitter, ToTensor\n"
   ]
  },
  {
   "cell_type": "code",
   "execution_count": 85,
   "metadata": {},
   "outputs": [],
   "source": [
    "\n",
    "data_set = load_dataset(\"keremberke/license-plate-object-detection\", name=\"full\", split='train')"
   ]
  },
  {
   "cell_type": "code",
   "execution_count": 70,
   "metadata": {},
   "outputs": [
    {
     "data": {
      "text/plain": [
       "{'image_id': Value(dtype='int64', id=None),\n",
       " 'image': Image(decode=True, id=None),\n",
       " 'width': Value(dtype='int32', id=None),\n",
       " 'height': Value(dtype='int32', id=None),\n",
       " 'objects': Sequence(feature={'id': Value(dtype='int64', id=None), 'area': Value(dtype='int64', id=None), 'bbox': Sequence(feature=Value(dtype='float32', id=None), length=4, id=None), 'category': ClassLabel(names=['license_plate'], id=None)}, length=-1, id=None)}"
      ]
     },
     "execution_count": 70,
     "metadata": {},
     "output_type": "execute_result"
    }
   ],
   "source": [
    "# Dataset features\n",
    "data_set.features"
   ]
  },
  {
   "cell_type": "markdown",
   "metadata": {},
   "source": [
    "### Preprocessing data"
   ]
  },
  {
   "cell_type": "code",
   "execution_count": 86,
   "metadata": {},
   "outputs": [],
   "source": [
    "# Data augmentation\n",
    "tranform_ds = transforms.Compose(\n",
    "    [transforms.ToTensor(), transforms.ToPILImage(), transforms.Resize(256), transforms.RandomCrop(224)])"
   ]
  }
 ],
 "metadata": {
  "kernelspec": {
   "display_name": "pytorch",
   "language": "python",
   "name": "python3"
  },
  "language_info": {
   "codemirror_mode": {
    "name": "ipython",
    "version": 3
   },
   "file_extension": ".py",
   "mimetype": "text/x-python",
   "name": "python",
   "nbconvert_exporter": "python",
   "pygments_lexer": "ipython3",
   "version": "3.9.17"
  },
  "orig_nbformat": 4
 },
 "nbformat": 4,
 "nbformat_minor": 2
}
